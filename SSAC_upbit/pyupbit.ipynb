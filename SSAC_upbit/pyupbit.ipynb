{
 "cells": [
  {
   "cell_type": "code",
   "execution_count": 1,
   "metadata": {},
   "outputs": [],
   "source": [
    "import pyupbit"
   ]
  },
  {
   "cell_type": "code",
   "execution_count": 2,
   "metadata": {},
   "outputs": [
    {
     "name": "stdout",
     "output_type": "stream",
     "text": [
      "<class 'pyupbit.exchange_api.Upbit'>\n"
     ]
    }
   ],
   "source": [
    "print(pyupbit.Upbit)"
   ]
  },
  {
   "cell_type": "code",
   "execution_count": 3,
   "metadata": {},
   "outputs": [
    {
     "name": "stdout",
     "output_type": "stream",
     "text": [
      "['KRW-BTC', 'KRW-ETH', 'BTC-ETH', 'BTC-XRP', 'BTC-ETC', 'BTC-OMG', 'BTC-CVC', 'BTC-DGB', 'BTC-SC', 'BTC-SNT', 'BTC-WAVES', 'BTC-NMR', 'BTC-XEM', 'BTC-QTUM', 'BTC-BAT', 'BTC-LSK', 'BTC-STEEM', 'BTC-DOGE', 'BTC-BNT', 'BTC-XLM', 'BTC-ARDR', 'BTC-ARK', 'BTC-STORJ', 'BTC-GRS', 'BTC-REP', 'BTC-RLC', 'USDT-BTC', 'USDT-ETH', 'USDT-XRP', 'USDT-ETC', 'KRW-NEO', 'KRW-MTL', 'KRW-XRP', 'KRW-ETC', 'KRW-OMG', 'KRW-SNT', 'KRW-WAVES', 'KRW-XEM', 'KRW-QTUM', 'KRW-LSK', 'KRW-STEEM', 'KRW-XLM', 'KRW-ARDR', 'KRW-ARK', 'KRW-STORJ', 'KRW-GRS', 'KRW-REP', 'KRW-ADA', 'BTC-ADA', 'BTC-MANA', 'USDT-OMG', 'KRW-SBD', 'BTC-SBD', 'KRW-POWR', 'BTC-POWR', 'KRW-BTG', 'USDT-ADA', 'BTC-DNT', 'BTC-ZRX', 'BTC-TRX', 'BTC-TUSD', 'BTC-LRC', 'KRW-ICX', 'KRW-EOS', 'USDT-TUSD', 'KRW-TRX', 'BTC-POLY', 'USDT-SC', 'USDT-TRX', 'KRW-SC', 'KRW-ONT', 'KRW-ZIL', 'KRW-POLY', 'KRW-ZRX', 'KRW-LOOM', 'BTC-BCH', 'USDT-BCH', 'KRW-BCH', 'BTC-MFT', 'BTC-LOOM', 'KRW-BAT', 'KRW-IOST', 'BTC-RFR', 'KRW-RFR', 'USDT-DGB', 'KRW-CVC', 'KRW-IQ', 'KRW-IOTA', 'BTC-RVN', 'BTC-GO', 'BTC-UPP', 'BTC-ENJ', 'KRW-MFT', 'KRW-ONG', 'KRW-GAS', 'BTC-MTL', 'KRW-UPP', 'KRW-ELF', 'USDT-DOGE', 'USDT-ZRX', 'USDT-RVN', 'USDT-BAT', 'KRW-KNC', 'BTC-MOC', 'BTC-ZIL', 'KRW-BSV', 'BTC-BSV', 'BTC-IOST', 'KRW-THETA', 'BTC-DENT', 'KRW-QKC', 'BTC-ELF', 'KRW-BTT', 'BTC-IOTX', 'BTC-SOLVE', 'BTC-NKN', 'BTC-META', 'KRW-MOC', 'BTC-ANKR', 'BTC-CRO', 'KRW-ENJ', 'KRW-TFUEL', 'KRW-MANA', 'KRW-ANKR', 'BTC-ORBS', 'BTC-AERGO', 'KRW-AERGO', 'KRW-ATOM', 'KRW-TT', 'KRW-CRE', 'BTC-ATOM', 'BTC-STPT', 'KRW-MBL', 'BTC-EOS', 'BTC-DAI', 'BTC-MKR', 'BTC-BORA', 'KRW-WAXP', 'BTC-WAXP', 'KRW-HBAR', 'KRW-MED', 'BTC-MED', 'BTC-MLK', 'KRW-MLK', 'KRW-STPT', 'BTC-VET', 'KRW-ORBS', 'BTC-CHZ', 'KRW-VET', 'BTC-FX', 'BTC-OGN', 'KRW-CHZ', 'BTC-XTZ', 'BTC-HIVE', 'BTC-HBD', 'BTC-OBSR', 'BTC-DKA', 'KRW-STMX', 'BTC-STMX', 'BTC-AHT', 'BTC-PCI', 'KRW-DKA', 'BTC-LINK', 'KRW-HIVE', 'KRW-KAVA', 'BTC-KAVA', 'KRW-AHT', 'KRW-LINK', 'KRW-XTZ', 'KRW-BORA', 'BTC-JST', 'BTC-CHR', 'BTC-DAD', 'BTC-TON', 'KRW-JST', 'BTC-CTSI', 'BTC-DOT', 'KRW-CRO', 'BTC-COMP', 'BTC-SXP', 'BTC-HUNT', 'KRW-TON', 'BTC-ONIT', 'BTC-CRV', 'BTC-ALGO', 'BTC-RSR', 'KRW-SXP', 'BTC-OXT', 'BTC-PLA', 'KRW-HUNT', 'BTC-MARO', 'BTC-SAND', 'BTC-SUN', 'KRW-PLA', 'KRW-DOT', 'BTC-SRM', 'BTC-QTCON', 'BTC-MVL', 'KRW-SRM', 'KRW-MVL', 'BTC-REI', 'BTC-AQT', 'BTC-AXS', 'BTC-STRAX', 'KRW-STRAX', 'KRW-AQT', 'BTC-GLM', 'KRW-GLM', 'BTC-FCT2', 'BTC-SSX', 'KRW-SSX', 'KRW-META', 'KRW-FCT2', 'BTC-FIL', 'BTC-UNI', 'BTC-BASIC', 'BTC-INJ', 'BTC-PROM', 'BTC-VAL', 'BTC-PSG', 'BTC-JUV', 'BTC-CBK', 'BTC-FOR', 'KRW-CBK', 'BTC-BFC', 'BTC-LINA', 'BTC-HUM', 'BTC-CELO', 'KRW-SAND', 'KRW-HUM', 'BTC-IQ', 'BTC-STX', 'KRW-DOGE', 'BTC-NEAR', 'BTC-AUCTION', 'BTC-DAWN', 'BTC-FLOW', 'BTC-STRK', 'KRW-STRK', 'BTC-PUNDIX', 'KRW-PUNDIX', 'KRW-FLOW', 'KRW-DAWN', 'KRW-AXS', 'KRW-STX', 'BTC-GRT', 'BTC-SNX', 'BTC-USDP', 'KRW-XEC', 'KRW-SOL', 'BTC-SOL', 'KRW-MATIC', 'BTC-MATIC', 'KRW-NU', 'BTC-NU', 'KRW-AAVE', 'KRW-1INCH', 'BTC-AAVE', 'BTC-1INCH', 'BTC-MASK', 'KRW-ALGO', 'BTC-AUDIO', 'KRW-NEAR', 'BTC-YGG', 'BTC-GTC', 'BTC-OCEAN', 'BTC-CTC', 'BTC-LPT', 'KRW-WEMIX', 'BTC-WEMIX', 'KRW-AVAX', 'BTC-AVAX', 'BTC-IMX', 'BTC-RNDR', 'BTC-RLY', 'KRW-T', 'BTC-T', 'KRW-CELO', 'BTC-RAD', 'BTC-AGLD', 'BTC-API3', 'BTC-ARPA', 'BTC-ENS', 'KRW-GMT', 'BTC-GMT', 'BTC-APE', 'BTC-RAY']\n"
     ]
    }
   ],
   "source": [
    "tickers = pyupbit.get_tickers()\n",
    "print(tickers)"
   ]
  },
  {
   "cell_type": "code",
   "execution_count": 4,
   "metadata": {},
   "outputs": [
    {
     "name": "stdout",
     "output_type": "stream",
     "text": [
      "['KRW-BTC', 'KRW-ETH', 'BTC-ETH', 'BTC-XRP', 'BTC-ETC', 'BTC-OMG', 'BTC-CVC', 'BTC-DGB', 'BTC-SC', 'BTC-SNT', 'BTC-WAVES', 'BTC-NMR', 'BTC-XEM', 'BTC-QTUM', 'BTC-BAT', 'BTC-LSK', 'BTC-STEEM', 'BTC-DOGE', 'BTC-BNT', 'BTC-XLM', 'BTC-ARDR', 'BTC-ARK', 'BTC-STORJ', 'BTC-GRS', 'BTC-REP', 'BTC-RLC', 'USDT-BTC', 'USDT-ETH', 'USDT-XRP', 'USDT-ETC', 'KRW-NEO', 'KRW-MTL', 'KRW-XRP', 'KRW-ETC', 'KRW-OMG', 'KRW-SNT', 'KRW-WAVES', 'KRW-XEM', 'KRW-QTUM', 'KRW-LSK', 'KRW-STEEM', 'KRW-XLM', 'KRW-ARDR', 'KRW-ARK', 'KRW-STORJ', 'KRW-GRS', 'KRW-REP', 'KRW-ADA', 'BTC-ADA', 'BTC-MANA', 'USDT-OMG', 'KRW-SBD', 'BTC-SBD', 'KRW-POWR', 'BTC-POWR', 'KRW-BTG', 'USDT-ADA', 'BTC-DNT', 'BTC-ZRX', 'BTC-TRX', 'BTC-TUSD', 'BTC-LRC', 'KRW-ICX', 'KRW-EOS', 'USDT-TUSD', 'KRW-TRX', 'BTC-POLY', 'USDT-SC', 'USDT-TRX', 'KRW-SC', 'KRW-ONT', 'KRW-ZIL', 'KRW-POLY', 'KRW-ZRX', 'KRW-LOOM', 'BTC-BCH', 'USDT-BCH', 'KRW-BCH', 'BTC-MFT', 'BTC-LOOM', 'KRW-BAT', 'KRW-IOST', 'BTC-RFR', 'KRW-RFR', 'USDT-DGB', 'KRW-CVC', 'KRW-IQ', 'KRW-IOTA', 'BTC-RVN', 'BTC-GO', 'BTC-UPP', 'BTC-ENJ', 'KRW-MFT', 'KRW-ONG', 'KRW-GAS', 'BTC-MTL', 'KRW-UPP', 'KRW-ELF', 'USDT-DOGE', 'USDT-ZRX', 'USDT-RVN', 'USDT-BAT', 'KRW-KNC', 'BTC-MOC', 'BTC-ZIL', 'KRW-BSV', 'BTC-BSV', 'BTC-IOST', 'KRW-THETA', 'BTC-DENT', 'KRW-QKC', 'BTC-ELF', 'KRW-BTT', 'BTC-IOTX', 'BTC-SOLVE', 'BTC-NKN', 'BTC-META', 'KRW-MOC', 'BTC-ANKR', 'BTC-CRO', 'KRW-ENJ', 'KRW-TFUEL', 'KRW-MANA', 'KRW-ANKR', 'BTC-ORBS', 'BTC-AERGO', 'KRW-AERGO', 'KRW-ATOM', 'KRW-TT', 'KRW-CRE', 'BTC-ATOM', 'BTC-STPT', 'KRW-MBL', 'BTC-EOS', 'BTC-DAI', 'BTC-MKR', 'BTC-BORA', 'KRW-WAXP', 'BTC-WAXP', 'KRW-HBAR', 'KRW-MED', 'BTC-MED', 'BTC-MLK', 'KRW-MLK', 'KRW-STPT', 'BTC-VET', 'KRW-ORBS', 'BTC-CHZ', 'KRW-VET', 'BTC-FX', 'BTC-OGN', 'KRW-CHZ', 'BTC-XTZ', 'BTC-HIVE', 'BTC-HBD', 'BTC-OBSR', 'BTC-DKA', 'KRW-STMX', 'BTC-STMX', 'BTC-AHT', 'BTC-PCI', 'KRW-DKA', 'BTC-LINK', 'KRW-HIVE', 'KRW-KAVA', 'BTC-KAVA', 'KRW-AHT', 'KRW-LINK', 'KRW-XTZ', 'KRW-BORA', 'BTC-JST', 'BTC-CHR', 'BTC-DAD', 'BTC-TON', 'KRW-JST', 'BTC-CTSI', 'BTC-DOT', 'KRW-CRO', 'BTC-COMP', 'BTC-SXP', 'BTC-HUNT', 'KRW-TON', 'BTC-ONIT', 'BTC-CRV', 'BTC-ALGO', 'BTC-RSR', 'KRW-SXP', 'BTC-OXT', 'BTC-PLA', 'KRW-HUNT', 'BTC-MARO', 'BTC-SAND', 'BTC-SUN', 'KRW-PLA', 'KRW-DOT', 'BTC-SRM', 'BTC-QTCON', 'BTC-MVL', 'KRW-SRM', 'KRW-MVL', 'BTC-REI', 'BTC-AQT', 'BTC-AXS', 'BTC-STRAX', 'KRW-STRAX', 'KRW-AQT', 'BTC-GLM', 'KRW-GLM', 'BTC-FCT2', 'BTC-SSX', 'KRW-SSX', 'KRW-META', 'KRW-FCT2', 'BTC-FIL', 'BTC-UNI', 'BTC-BASIC', 'BTC-INJ', 'BTC-PROM', 'BTC-VAL', 'BTC-PSG', 'BTC-JUV', 'BTC-CBK', 'BTC-FOR', 'KRW-CBK', 'BTC-BFC', 'BTC-LINA', 'BTC-HUM', 'BTC-CELO', 'KRW-SAND', 'KRW-HUM', 'BTC-IQ', 'BTC-STX', 'KRW-DOGE', 'BTC-NEAR', 'BTC-AUCTION', 'BTC-DAWN', 'BTC-FLOW', 'BTC-STRK', 'KRW-STRK', 'BTC-PUNDIX', 'KRW-PUNDIX', 'KRW-FLOW', 'KRW-DAWN', 'KRW-AXS', 'KRW-STX', 'BTC-GRT', 'BTC-SNX', 'BTC-USDP', 'KRW-XEC', 'KRW-SOL', 'BTC-SOL', 'KRW-MATIC', 'BTC-MATIC', 'KRW-NU', 'BTC-NU', 'KRW-AAVE', 'KRW-1INCH', 'BTC-AAVE', 'BTC-1INCH', 'BTC-MASK', 'KRW-ALGO', 'BTC-AUDIO', 'KRW-NEAR', 'BTC-YGG', 'BTC-GTC', 'BTC-OCEAN', 'BTC-CTC', 'BTC-LPT', 'KRW-WEMIX', 'BTC-WEMIX', 'KRW-AVAX', 'BTC-AVAX', 'BTC-IMX', 'BTC-RNDR', 'BTC-RLY', 'KRW-T', 'BTC-T', 'KRW-CELO', 'BTC-RAD', 'BTC-AGLD', 'BTC-API3', 'BTC-ARPA', 'BTC-ENS', 'KRW-GMT', 'BTC-GMT', 'BTC-APE', 'BTC-RAY']\n"
     ]
    }
   ],
   "source": [
    "ko_tickers = pyupbit.get_tickers(fiat=\"KRW\")\n",
    "print(tickers)"
   ]
  },
  {
   "cell_type": "code",
   "execution_count": 5,
   "metadata": {},
   "outputs": [
    {
     "name": "stdout",
     "output_type": "stream",
     "text": [
      "745\n"
     ]
    }
   ],
   "source": [
    "price = pyupbit.get_current_price(\"KRW-XRP\")\n",
    "print(price)"
   ]
  },
  {
   "cell_type": "markdown",
   "metadata": {},
   "source": [
    "Past Data <br>\n",
    "시가(open), 고가(high), 저가(close), 종가(close), 거래량(volume)"
   ]
  },
  {
   "cell_type": "code",
   "execution_count": 6,
   "metadata": {},
   "outputs": [
    {
     "name": "stdout",
     "output_type": "stream",
     "text": [
      "                           open        high         low       close  \\\n",
      "2022-03-25 09:00:00  52907000.0  54450000.0  52700000.0  53791000.0   \n",
      "2022-03-26 09:00:00  53836000.0  54241000.0  53402000.0  53902000.0   \n",
      "2022-03-27 09:00:00  53888000.0  56201000.0  53674000.0  55949000.0   \n",
      "2022-03-28 09:00:00  55936000.0  57678000.0  55827000.0  56914000.0   \n",
      "2022-03-29 09:00:00  56900000.0  57540000.0  56390000.0  56985000.0   \n",
      "...                         ...         ...         ...         ...   \n",
      "2022-10-06 09:00:00  28720000.0  28930000.0  28290000.0  28418000.0   \n",
      "2022-10-07 09:00:00  28418000.0  28517000.0  27663000.0  27805000.0   \n",
      "2022-10-08 09:00:00  27810000.0  27933000.0  27602000.0  27743000.0   \n",
      "2022-10-09 09:00:00  27743000.0  27885000.0  27622000.0  27679000.0   \n",
      "2022-10-10 09:00:00  27679000.0  27833000.0  27631000.0  27700000.0   \n",
      "\n",
      "                          volume         value  \n",
      "2022-03-25 09:00:00  5670.827515  3.038154e+11  \n",
      "2022-03-26 09:00:00  3333.058744  1.795887e+11  \n",
      "2022-03-27 09:00:00  5341.023716  2.920273e+11  \n",
      "2022-03-28 09:00:00  6374.435146  3.615686e+11  \n",
      "2022-03-29 09:00:00  6629.178471  3.789075e+11  \n",
      "...                          ...           ...  \n",
      "2022-10-06 09:00:00  4801.187682  1.373495e+11  \n",
      "2022-10-07 09:00:00  5416.378592  1.520120e+11  \n",
      "2022-10-08 09:00:00  2106.945314  5.856831e+10  \n",
      "2022-10-09 09:00:00  1640.581783  4.551599e+10  \n",
      "2022-10-10 09:00:00  1055.067712  2.925981e+10  \n",
      "\n",
      "[200 rows x 6 columns]\n"
     ]
    }
   ],
   "source": [
    "df = pyupbit.get_ohlcv(\"KRW-BTC\")\n",
    "print(df)"
   ]
  },
  {
   "cell_type": "code",
   "execution_count": 7,
   "metadata": {},
   "outputs": [
    {
     "name": "stdout",
     "output_type": "stream",
     "text": [
      "open\n",
      "high\n",
      "low\n",
      "close\n",
      "volume\n",
      "value\n"
     ]
    }
   ],
   "source": [
    "for i in df:\n",
    "    print(i)"
   ]
  },
  {
   "cell_type": "code",
   "execution_count": 8,
   "metadata": {},
   "outputs": [
    {
     "name": "stdout",
     "output_type": "stream",
     "text": [
      "2022-03-25 09:00:00    52907000.0\n",
      "2022-03-26 09:00:00    53836000.0\n",
      "2022-03-27 09:00:00    53888000.0\n",
      "2022-03-28 09:00:00    55936000.0\n",
      "2022-03-29 09:00:00    56900000.0\n",
      "                          ...    \n",
      "2022-10-06 09:00:00    28720000.0\n",
      "2022-10-07 09:00:00    28418000.0\n",
      "2022-10-08 09:00:00    27810000.0\n",
      "2022-10-09 09:00:00    27743000.0\n",
      "2022-10-10 09:00:00    27679000.0\n",
      "Name: open, Length: 200, dtype: float64\n"
     ]
    }
   ],
   "source": [
    "print(df[\"open\"])"
   ]
  },
  {
   "cell_type": "code",
   "execution_count": 9,
   "metadata": {},
   "outputs": [
    {
     "name": "stdout",
     "output_type": "stream",
     "text": [
      "2022-03-25 09:00:00    54450000.0\n",
      "2022-03-26 09:00:00    54241000.0\n",
      "2022-03-27 09:00:00    56201000.0\n",
      "2022-03-28 09:00:00    57678000.0\n",
      "2022-03-29 09:00:00    57540000.0\n",
      "                          ...    \n",
      "2022-10-06 09:00:00    28930000.0\n",
      "2022-10-07 09:00:00    28517000.0\n",
      "2022-10-08 09:00:00    27933000.0\n",
      "2022-10-09 09:00:00    27885000.0\n",
      "2022-10-10 09:00:00    27833000.0\n",
      "Name: high, Length: 200, dtype: float64\n"
     ]
    }
   ],
   "source": [
    "print(df[\"high\"])"
   ]
  },
  {
   "cell_type": "code",
   "execution_count": 10,
   "metadata": {},
   "outputs": [
    {
     "name": "stdout",
     "output_type": "stream",
     "text": [
      "2022-03-25 09:00:00    52907000.0\n",
      "2022-03-26 09:00:00    53836000.0\n",
      "2022-03-27 09:00:00    53888000.0\n",
      "2022-03-28 09:00:00    55936000.0\n",
      "2022-03-29 09:00:00    56900000.0\n",
      "                          ...    \n",
      "2022-10-06 09:00:00    28720000.0\n",
      "2022-10-07 09:00:00    28418000.0\n",
      "2022-10-08 09:00:00    27810000.0\n",
      "2022-10-09 09:00:00    27743000.0\n",
      "2022-10-10 09:00:00    27679000.0\n",
      "Name: open, Length: 200, dtype: float64\n"
     ]
    }
   ],
   "source": [
    "open = df[\"open\"]\n",
    "print(open)"
   ]
  },
  {
   "cell_type": "code",
   "execution_count": 12,
   "metadata": {},
   "outputs": [
    {
     "data": {
      "text/plain": [
       "array([52907000., 53836000., 53888000., 55936000., 56900000., 56985000.,\n",
       "       56594000., 55331000., 56326000., 56006000., 56596000., 57069000.,\n",
       "       56195000., 53072000., 53813000., 52934000., 53295000., 52799000.,\n",
       "       50050000., 50577000., 51645000., 50275000., 50807000., 50567000.,\n",
       "       49962000., 50768000., 51459000., 51436000., 50805000., 49937000.,\n",
       "       49723000., 49620000., 50614000., 48718000., 49954000., 50580000.,\n",
       "       49731000., 49283000., 49383000., 49501000., 48772000., 50631000.,\n",
       "       47650000., 47030000., 46507000., 44763000., 41000000., 41044000.,\n",
       "       40263000., 39246000., 39270000., 39967000., 40902000., 39260000.,\n",
       "       39260000., 37100000., 38781000., 37798000., 38037000., 38933000.,\n",
       "       37436000., 37827000., 37937000., 37662000., 36862000., 37033000.,\n",
       "       37415000., 39527000., 39927000., 37880000., 38393000., 37852000.,\n",
       "       37916000., 37974000., 39532000., 39366000., 38581000., 38265000.,\n",
       "       37613000., 37061000., 34718000., 29373000., 28828000., 29235000.,\n",
       "       26900000., 27010000., 25096000., 26666000., 26643000., 26967000.,\n",
       "       26180000., 27419000., 27592000., 27837000., 27475000., 27033000.,\n",
       "       26553000., 26572000., 25999000., 25576000., 25465000., 25454000.,\n",
       "       26399000., 26523000., 26953000., 28129000., 28241000., 28199000.,\n",
       "       27317000., 26474000., 25723000., 26604000., 27140000., 27496000.,\n",
       "       27856000., 27505000., 29322000., 30646000., 30500000., 30415000.,\n",
       "       30077000., 29704000., 29818000., 28555000., 28401000., 30200000.,\n",
       "       31217000., 31402000., 31270000., 30750000., 30851000., 30754000.,\n",
       "       30708000., 30318000., 30767000., 30534000., 30695000., 31435000.,\n",
       "       30997000., 31583000., 31770000., 32368000., 32562000., 32544000.,\n",
       "       32435000., 32082000., 31547000., 31720000., 28678000., 29350000.,\n",
       "       29458000., 29261000., 29287000., 29103000., 29299000., 27954000.,\n",
       "       27739000., 27098000., 27792000., 27314000., 27521000., 27636000.,\n",
       "       27562000., 27440000., 27529000., 27309000., 26361000., 26811000.,\n",
       "       26887000., 29344000., 29727000., 30028000., 30684000., 28371000.,\n",
       "       28352000., 28029000., 27916000., 28174000., 27490000., 27566000.,\n",
       "       26757000., 26523000., 27571000., 27591000., 27270000., 27051000.,\n",
       "       27604000., 27495000., 27952000., 28020000., 27924000., 27868000.,\n",
       "       27672000., 28280000., 28952000., 28720000., 28418000., 27810000.,\n",
       "       27743000., 27679000.])"
      ]
     },
     "execution_count": 12,
     "metadata": {},
     "output_type": "execute_result"
    }
   ],
   "source": [
    "open.values"
   ]
  },
  {
   "cell_type": "code",
   "execution_count": 15,
   "metadata": {},
   "outputs": [
    {
     "data": {
      "text/plain": [
       "[52907000.0,\n",
       " 53836000.0,\n",
       " 53888000.0,\n",
       " 55936000.0,\n",
       " 56900000.0,\n",
       " 56985000.0,\n",
       " 56594000.0,\n",
       " 55331000.0,\n",
       " 56326000.0,\n",
       " 56006000.0,\n",
       " 56596000.0,\n",
       " 57069000.0,\n",
       " 56195000.0,\n",
       " 53072000.0,\n",
       " 53813000.0,\n",
       " 52934000.0,\n",
       " 53295000.0,\n",
       " 52799000.0,\n",
       " 50050000.0,\n",
       " 50577000.0,\n",
       " 51645000.0,\n",
       " 50275000.0,\n",
       " 50807000.0,\n",
       " 50567000.0,\n",
       " 49962000.0,\n",
       " 50768000.0,\n",
       " 51459000.0,\n",
       " 51436000.0,\n",
       " 50805000.0,\n",
       " 49937000.0,\n",
       " 49723000.0,\n",
       " 49620000.0,\n",
       " 50614000.0,\n",
       " 48718000.0,\n",
       " 49954000.0,\n",
       " 50580000.0,\n",
       " 49731000.0,\n",
       " 49283000.0,\n",
       " 49383000.0,\n",
       " 49501000.0,\n",
       " 48772000.0,\n",
       " 50631000.0,\n",
       " 47650000.0,\n",
       " 47030000.0,\n",
       " 46507000.0,\n",
       " 44763000.0,\n",
       " 41000000.0,\n",
       " 41044000.0,\n",
       " 40263000.0,\n",
       " 39246000.0,\n",
       " 39270000.0,\n",
       " 39967000.0,\n",
       " 40902000.0,\n",
       " 39260000.0,\n",
       " 39260000.0,\n",
       " 37100000.0,\n",
       " 38781000.0,\n",
       " 37798000.0,\n",
       " 38037000.0,\n",
       " 38933000.0,\n",
       " 37436000.0,\n",
       " 37827000.0,\n",
       " 37937000.0,\n",
       " 37662000.0,\n",
       " 36862000.0,\n",
       " 37033000.0,\n",
       " 37415000.0,\n",
       " 39527000.0,\n",
       " 39927000.0,\n",
       " 37880000.0,\n",
       " 38393000.0,\n",
       " 37852000.0,\n",
       " 37916000.0,\n",
       " 37974000.0,\n",
       " 39532000.0,\n",
       " 39366000.0,\n",
       " 38581000.0,\n",
       " 38265000.0,\n",
       " 37613000.0,\n",
       " 37061000.0,\n",
       " 34718000.0,\n",
       " 29373000.0,\n",
       " 28828000.0,\n",
       " 29235000.0,\n",
       " 26900000.0,\n",
       " 27010000.0,\n",
       " 25096000.0,\n",
       " 26666000.0,\n",
       " 26643000.0,\n",
       " 26967000.0,\n",
       " 26180000.0,\n",
       " 27419000.0,\n",
       " 27592000.0,\n",
       " 27837000.0,\n",
       " 27475000.0,\n",
       " 27033000.0,\n",
       " 26553000.0,\n",
       " 26572000.0,\n",
       " 25999000.0,\n",
       " 25576000.0,\n",
       " 25465000.0,\n",
       " 25454000.0,\n",
       " 26399000.0,\n",
       " 26523000.0,\n",
       " 26953000.0,\n",
       " 28129000.0,\n",
       " 28241000.0,\n",
       " 28199000.0,\n",
       " 27317000.0,\n",
       " 26474000.0,\n",
       " 25723000.0,\n",
       " 26604000.0,\n",
       " 27140000.0,\n",
       " 27496000.0,\n",
       " 27856000.0,\n",
       " 27505000.0,\n",
       " 29322000.0,\n",
       " 30646000.0,\n",
       " 30500000.0,\n",
       " 30415000.0,\n",
       " 30077000.0,\n",
       " 29704000.0,\n",
       " 29818000.0,\n",
       " 28555000.0,\n",
       " 28401000.0,\n",
       " 30200000.0,\n",
       " 31217000.0,\n",
       " 31402000.0,\n",
       " 31270000.0,\n",
       " 30750000.0,\n",
       " 30851000.0,\n",
       " 30754000.0,\n",
       " 30708000.0,\n",
       " 30318000.0,\n",
       " 30767000.0,\n",
       " 30534000.0,\n",
       " 30695000.0,\n",
       " 31435000.0,\n",
       " 30997000.0,\n",
       " 31583000.0,\n",
       " 31770000.0,\n",
       " 32368000.0,\n",
       " 32562000.0,\n",
       " 32544000.0,\n",
       " 32435000.0,\n",
       " 32082000.0,\n",
       " 31547000.0,\n",
       " 31720000.0,\n",
       " 28678000.0,\n",
       " 29350000.0,\n",
       " 29458000.0,\n",
       " 29261000.0,\n",
       " 29287000.0,\n",
       " 29103000.0,\n",
       " 29299000.0,\n",
       " 27954000.0,\n",
       " 27739000.0,\n",
       " 27098000.0,\n",
       " 27792000.0,\n",
       " 27314000.0,\n",
       " 27521000.0,\n",
       " 27636000.0,\n",
       " 27562000.0,\n",
       " 27440000.0,\n",
       " 27529000.0,\n",
       " 27309000.0,\n",
       " 26361000.0,\n",
       " 26811000.0,\n",
       " 26887000.0,\n",
       " 29344000.0,\n",
       " 29727000.0,\n",
       " 30028000.0,\n",
       " 30684000.0,\n",
       " 28371000.0,\n",
       " 28352000.0,\n",
       " 28029000.0,\n",
       " 27916000.0,\n",
       " 28174000.0,\n",
       " 27490000.0,\n",
       " 27566000.0,\n",
       " 26757000.0,\n",
       " 26523000.0,\n",
       " 27571000.0,\n",
       " 27591000.0,\n",
       " 27270000.0,\n",
       " 27051000.0,\n",
       " 27604000.0,\n",
       " 27495000.0,\n",
       " 27952000.0,\n",
       " 28020000.0,\n",
       " 27924000.0,\n",
       " 27868000.0,\n",
       " 27672000.0,\n",
       " 28280000.0,\n",
       " 28952000.0,\n",
       " 28720000.0,\n",
       " 28418000.0,\n",
       " 27810000.0,\n",
       " 27743000.0,\n",
       " 27679000.0]"
      ]
     },
     "execution_count": 15,
     "metadata": {},
     "output_type": "execute_result"
    }
   ],
   "source": [
    "open.values.tolist()"
   ]
  },
  {
   "cell_type": "code",
   "execution_count": 39,
   "metadata": {},
   "outputs": [
    {
     "name": "stdout",
     "output_type": "stream",
     "text": [
      "2022-03-25\n"
     ]
    }
   ],
   "source": [
    "dates = list(open.to_dict().keys())\n",
    "print(str(dates[0].date()))"
   ]
  },
  {
   "cell_type": "code",
   "execution_count": null,
   "metadata": {},
   "outputs": [],
   "source": []
  }
 ],
 "metadata": {
  "kernelspec": {
   "display_name": "Python 3.10.5 64-bit",
   "language": "python",
   "name": "python3"
  },
  "language_info": {
   "codemirror_mode": {
    "name": "ipython",
    "version": 3
   },
   "file_extension": ".py",
   "mimetype": "text/x-python",
   "name": "python",
   "nbconvert_exporter": "python",
   "pygments_lexer": "ipython3",
   "version": "3.10.5"
  },
  "orig_nbformat": 4,
  "vscode": {
   "interpreter": {
    "hash": "e56843912e972f2131ad65365bb5dbb0f8d0eb85bbcfceb5fa1edb78828b84ee"
   }
  }
 },
 "nbformat": 4,
 "nbformat_minor": 2
}
